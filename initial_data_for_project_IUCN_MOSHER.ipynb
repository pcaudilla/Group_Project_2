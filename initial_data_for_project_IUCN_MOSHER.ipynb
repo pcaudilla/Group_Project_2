{
 "cells": [
  {
   "cell_type": "code",
   "execution_count": 1,
   "metadata": {},
   "outputs": [],
   "source": [
    "import requests\n",
    "import pandas as pd"
   ]
  },
  {
   "cell_type": "code",
   "execution_count": 2,
   "metadata": {},
   "outputs": [],
   "source": [
    "from api_keys import iucn_key"
   ]
  },
  {
   "cell_type": "code",
   "execution_count": 3,
   "metadata": {},
   "outputs": [],
   "source": [
    "url1 = \"http://apiv3.iucnredlist.org/api/v3/country/getspecies/AU?token=\"\n",
    "query_url = f\"{iucn_key}\""
   ]
  },
  {
   "cell_type": "code",
   "execution_count": 4,
   "metadata": {},
   "outputs": [],
   "source": [
    "iucn_species_australia = requests.get(url1 + query_url).json()"
   ]
  },
  {
   "cell_type": "code",
   "execution_count": 5,
   "metadata": {},
   "outputs": [],
   "source": [
    "iucn_au_results = iucn_species_australia[\"result\"]"
   ]
  },
  {
   "cell_type": "code",
   "execution_count": 6,
   "metadata": {},
   "outputs": [],
   "source": [
    "iucn_au_df = pd.DataFrame(iucn_au_results)"
   ]
  },
  {
   "cell_type": "code",
   "execution_count": 7,
   "metadata": {},
   "outputs": [],
   "source": [
    "endangered_au_species = iucn_au_df.category.str.contains('EN')"
   ]
  },
  {
   "cell_type": "code",
   "execution_count": 8,
   "metadata": {},
   "outputs": [],
   "source": [
    "only_endangered = iucn_au_df[endangered_au_species]"
   ]
  },
  {
   "cell_type": "code",
   "execution_count": 9,
   "metadata": {},
   "outputs": [],
   "source": [
    "only_endangered = only_endangered[['scientific_name']]"
   ]
  },
  {
   "cell_type": "code",
   "execution_count": 10,
   "metadata": {},
   "outputs": [],
   "source": [
    "only_endangered.replace(' ', '%20',regex=True,inplace=True)"
   ]
  },
  {
   "cell_type": "code",
   "execution_count": 12,
   "metadata": {},
   "outputs": [],
   "source": [
    "only_endangered.replace(\"'\", \"\", regex=True,inplace=True)"
   ]
  },
  {
   "cell_type": "code",
   "execution_count": null,
   "metadata": {},
   "outputs": [],
   "source": []
  },
  {
   "cell_type": "code",
   "execution_count": 13,
   "metadata": {},
   "outputs": [],
   "source": [
    "only_endangered[\"common_name\"] = \"\""
   ]
  },
  {
   "cell_type": "code",
   "execution_count": 14,
   "metadata": {},
   "outputs": [],
   "source": [
    "only_endangered.reset_index(inplace = True, drop = True)"
   ]
  },
  {
   "cell_type": "code",
   "execution_count": 15,
   "metadata": {},
   "outputs": [],
   "source": [
    "url2 = \"http://apiv3.iucnredlist.org/api/v3/species/common_names/\"\n",
    "token = f\"?token={iucn_key}\""
   ]
  },
  {
   "cell_type": "code",
   "execution_count": 21,
   "metadata": {},
   "outputs": [
    {
     "name": "stdout",
     "output_type": "stream",
     "text": [
      "Blunt Wattle\n",
      "Western Wheatbelt Wattle\n",
      "Newry Golden Wattle\n",
      "Newry Golden Wattle\n",
      "Gibson Wattle\n",
      "Phantom Wattle\n",
      "Dwarf Rock Wattle\n",
      "Thylacine Darner\n",
      "McCarthy’s Plant-louse\n",
      "Waterwheel\n",
      "Waterwheel\n",
      "Waterwheel\n",
      "Waterwheel\n",
      "Pilbara Dragon\n",
      "Gnaraloo Worm-lizard\n",
      "Noisy Scrub-bird\n",
      "Noisy Scrub-bird\n",
      "Noisy Scrub-bird\n",
      "Noisy Scrub-bird\n",
      "Rufous Scrub-bird\n",
      "Rufous Scrub-bird\n",
      "Wallum Darner\n",
      "Carnarvon Darner\n",
      "Cape Leeuwin Snail\n",
      "Cape Leeuwin Snail\n",
      "Hog Deer\n",
      "Hog Deer\n",
      "Hog Deer\n",
      "Hog Deer\n",
      "Hog Deer\n",
      "Hog Deer\n",
      "Hog Deer\n",
      "Hog Deer\n",
      "Hog Deer\n",
      "Sei Whale\n",
      "Sei Whale\n",
      "Sei Whale\n",
      "Sei Whale\n",
      "Sei Whale\n",
      "Sei Whale\n",
      "Blue Whale\n",
      "Blue Whale\n",
      "Blue Whale\n",
      "Northern Bettong\n",
      "Australasian Bittern\n",
      "Great Knot\n",
      "Great Knot\n",
      "Pig-nosed Turtle\n",
      "Pig-nosed Turtle\n",
      "Pig-nosed Turtle\n",
      "Pig-nosed Turtle\n",
      "Pig-nosed Turtle\n",
      "Green Turtle\n",
      "Green Turtle\n",
      "Green Turtle\n",
      "Green Turtle\n",
      "Green Turtle\n",
      "Green Turtle\n",
      "Kurnbudj Ctenotus\n",
      "Kurnbudj Ctenotus\n",
      "Stuart's Ctenotus\n",
      "Stuart's Ctenotus\n",
      "Alpine She-Oak Slender Bluetongue\n",
      "Alpine She-Oak Slender Bluetongue\n",
      "Coxen's Fig-parrot\n",
      "Eastern Bristlebird\n",
      "Northern Quoll\n",
      "Northern Quoll\n",
      "Eastern Quoll\n",
      "Eastern Quoll\n",
      "Striped Legless Lizard\n",
      "Striped Legless Lizard\n",
      "Antipodean Albatross\n",
      "Northern Royal Albatross\n",
      "Grey Skate\n",
      "Giant Torrent Midge\n",
      "Mary River Turtle\n",
      "Lightning Man Triplefin\n",
      "Austral Pipewort\n",
      "Austral Pipewort\n",
      "Ellen Clark’s Crayfish\n",
      "Morrisby's Gum\n",
      "Erect-crested Penguin\n",
      "Erect-crested Penguin\n",
      "Erect-crested Penguin\n",
      "Erect-crested Penguin\n",
      "Blue Mountain Water Skink\n",
      "Grey Snake\n",
      "Wallum Vicetail\n",
      "White's Seahorse\n",
      "White's Seahorse\n",
      "White's Seahorse\n",
      "White's Seahorse\n",
      "Shortfin Mako\n",
      "Longfin Mako\n",
      "Limbless Fine-lined Slider\n",
      "Gnaraloo Mulch-slider\n",
      "Perth Slider\n",
      "Perth Slider\n",
      "Dotty-tailed Robust Slider\n",
      "Mount Lewis Bluestreak\n",
      "Guthega Skink\n",
      "Eastern Mourning Skink\n",
      "Eastern Mourning Skink\n",
      "Alligator River Gecko\n",
      "Black-eared Miner\n",
      "Black-eared Miner\n",
      "Humpback Whale\n",
      "Giant Gippsland Earthworm\n",
      "Cumberland Land Snail\n",
      "Numbat\n",
      "Numbat\n",
      "Numbat\n",
      "Numbat\n",
      "Nangur Skink\n",
      "Nangur Skink\n",
      "Australian Sea Lion\n",
      "Australian Sea Lion\n",
      "Pilbara Threadtail\n",
      "Northern Hopping-mouse\n",
      "Northern Hopping-mouse\n",
      "Northern Hopping-mouse\n",
      "Black Grass-dart Butterfly\n",
      "Black Grass-dart Butterfly\n",
      "Abbott's Booby\n",
      "Abbott's Booby\n",
      "Abbott's Booby\n",
      "Dibbler\n",
      "Dibbler\n",
      "Dibbler\n",
      "Forty-spotted Pardalote\n",
      "Mahogany Glider\n",
      "Nabarlek\n",
      "Proserpine Rock Wallaby\n",
      "Night Parrot\n",
      "Night Parrot\n",
      "Night Parrot\n",
      "Sooty Albatross\n",
      "Sooty Albatross\n",
      "Sooty Albatross\n",
      "Victorian Flat-pea\n",
      "Dwarf Sawfish\n",
      "Dwarf Sawfish\n",
      "Golden-shouldered Parrot\n",
      "Golden-shouldered Parrot\n",
      "Golden-shouldered Parrot\n",
      "Golden-shouldered Parrot\n",
      "Alpine Bog Skink\n",
      "Barau's Petrel\n",
      "Barau's Petrel\n",
      "Barau's Petrel\n",
      "Barau's Petrel\n",
      "Hutton's Shearwater\n",
      "Hutton's Shearwater\n",
      "Whale Shark\n",
      "Whale Shark\n",
      "Whale Shark\n",
      "Tasmanian Devil\n",
      "Tasmanian Devil\n",
      "Scalloped Hammerhead\n",
      "Great Hammerhead\n",
      "Great Hammerhead\n",
      "Greeneye Spurdog\n",
      "Mallee Emu-wren\n",
      "Mallee Emu-wren\n",
      "Small Purple-pea\n",
      "Small Purple-pea\n",
      "Large Blue Lake Mayfly\n",
      "Swamp Crayfish\n",
      "Indian Yellow-nosed Albatross\n",
      "Atlantic Yellow-nosed Albatross\n",
      "Atlantic Yellow-nosed Albatross\n",
      "Grey-headed Albatross\n",
      "Grey-headed Albatross\n",
      "Grey-headed Albatross\n",
      "Grey-headed Albatross\n",
      "Buff-breasted Buttonquail\n",
      "Buff-breasted Buttonquail\n",
      "Condamine Earless Dragon\n",
      "Grassland Earless Dragon\n",
      "Grassland Earless Dragon\n",
      "Roma Earless Dragon\n",
      "Coastal Stingaree\n",
      "Mertens's Water Monitor\n",
      "Maugean Skate\n",
      "Maugean Skate\n"
     ]
    }
   ],
   "source": [
    "for index, row in only_endangered.iterrows():\n",
    "# initial outdata\n",
    "    outdata=\"\"\n",
    "#     get scientific name\n",
    "    scientific_name = row['scientific_name']\n",
    "#     sending request getting response for taxonname\n",
    "    response = requests.get(url2 + scientific_name + token).json()\n",
    "    \n",
    "    if response[\"result\"] == []:\n",
    "        outdata = \"NaN\"\n",
    "        \n",
    "#     get dataline\n",
    "        \n",
    "    else:\n",
    "        \n",
    "        for i in response[\"result\"]:\n",
    "            dataline=response[\"result\"][0]\n",
    "    \n",
    "            if dataline[\"primary\"] == True:\n",
    "                outdata=dataline[\"taxonname\"]\n",
    "                print(outdata)\n",
    "            \n",
    "            else:\n",
    "                outdata=dataline[\"taxonname\"]\n",
    "                \n",
    "    only_endangered.loc[index, \"common_name\"] = outdata\n",
    " "
   ]
  },
  {
   "cell_type": "code",
   "execution_count": 20,
   "metadata": {},
   "outputs": [
    {
     "name": "stdout",
     "output_type": "stream",
     "text": [
      "{'name': 'Acrodipsas illidgei', 'result': [{'taxonname': \"Illidge's Ant-blue\", 'primary': False, 'language': 'eng'}]}\n"
     ]
    }
   ],
   "source": [
    "response = requests.get(url2 + \"Acrodipsas%20illidgei\" + token).json()\n",
    "\n",
    "print(response)\n"
   ]
  },
  {
   "cell_type": "code",
   "execution_count": null,
   "metadata": {},
   "outputs": [],
   "source": [
    "only_endangered"
   ]
  },
  {
   "cell_type": "code",
   "execution_count": 17,
   "metadata": {},
   "outputs": [],
   "source": [
    "only_endangered.replace('%20', ' ',regex=True,inplace=True)"
   ]
  },
  {
   "cell_type": "code",
   "execution_count": 22,
   "metadata": {},
   "outputs": [],
   "source": [
    "only_endangered.to_csv(\"au_endanger_MOSHER.csv\", index=False)"
   ]
  },
  {
   "cell_type": "code",
   "execution_count": null,
   "metadata": {},
   "outputs": [],
   "source": []
  }
 ],
 "metadata": {
  "kernelspec": {
   "display_name": "Python 3",
   "language": "python",
   "name": "python3"
  },
  "language_info": {
   "codemirror_mode": {
    "name": "ipython",
    "version": 3
   },
   "file_extension": ".py",
   "mimetype": "text/x-python",
   "name": "python",
   "nbconvert_exporter": "python",
   "pygments_lexer": "ipython3",
   "version": "3.6.9"
  }
 },
 "nbformat": 4,
 "nbformat_minor": 2
}
